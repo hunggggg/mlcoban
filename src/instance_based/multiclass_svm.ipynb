{
 "cells": [
  {
   "cell_type": "code",
   "execution_count": 1,
   "metadata": {},
   "outputs": [],
   "source": [
    "import os\n",
    "import sys\n",
    "\n",
    "path = os.path.join(os.getcwd(), '../')\n",
    "sys.path.append(path)"
   ]
  },
  {
   "cell_type": "code",
   "execution_count": 2,
   "metadata": {},
   "outputs": [],
   "source": [
    "from read_data import read_mnist\n",
    "\n",
    "X_train, y_train, X_test, y_test = read_mnist()"
   ]
  },
  {
   "cell_type": "code",
   "execution_count": 3,
   "metadata": {},
   "outputs": [],
   "source": [
    "from multiclass_svm import MulticlassSVM\n",
    "\n",
    "multiclass_svm_model = MulticlassSVM(X_train, y_train, l=0.01)"
   ]
  },
  {
   "cell_type": "code",
   "execution_count": 4,
   "metadata": {
    "tags": []
   },
   "outputs": [
    {
     "name": "stdout",
     "output_type": "stream",
     "text": [
      "Epoch 1/100\tLoss: 23.57341103757522\n",
      "Epoch 2/100\tLoss: 13.317683909374482\n",
      "Epoch 3/100\tLoss: 7.665422053874508\n",
      "Epoch 4/100\tLoss: 4.495910741858399\n",
      "Epoch 5/100\tLoss: 2.733524395902254\n",
      "Epoch 6/100\tLoss: 1.7301877119882565\n",
      "Epoch 7/100\tLoss: 1.1861731410376897\n",
      "Epoch 8/100\tLoss: 0.8927799524161129\n",
      "Epoch 9/100\tLoss: 0.7173489971544644\n",
      "Epoch 10/100\tLoss: 0.6316062528740036\n",
      "Epoch 11/100\tLoss: 0.5801277337497948\n",
      "Epoch 12/100\tLoss: 0.5623922928061573\n",
      "Epoch 13/100\tLoss: 0.5414951612863096\n",
      "Epoch 14/100\tLoss: 0.5320321474099808\n",
      "Epoch 15/100\tLoss: 0.5265349293235574\n",
      "Epoch 16/100\tLoss: 0.5199327380457359\n",
      "Epoch 17/100\tLoss: 0.5280873538272457\n",
      "Epoch 18/100\tLoss: 0.5208175461985745\n",
      "Epoch 19/100\tLoss: 0.5301059289618828\n",
      "Epoch 20/100\tLoss: 0.519928037863043\n",
      "Epoch 21/100\tLoss: 0.5212471100294617\n",
      "Epoch 22/100\tLoss: 0.52364956355848\n",
      "Epoch 23/100\tLoss: 0.5267812393989488\n",
      "Epoch 24/100\tLoss: 0.521332672100835\n",
      "Epoch 25/100\tLoss: 0.5341613584929861\n",
      "Epoch 26/100\tLoss: 0.5219941825965215\n",
      "Epoch 27/100\tLoss: 0.5241348387040923\n",
      "Epoch 28/100\tLoss: 0.5188736296352408\n",
      "Epoch 29/100\tLoss: 0.5192353862595883\n",
      "Epoch 30/100\tLoss: 0.5333019742645912\n",
      "Epoch 31/100\tLoss: 0.5192978113797423\n",
      "Epoch 32/100\tLoss: 0.5191556426301742\n",
      "Epoch 33/100\tLoss: 0.5163227594228739\n",
      "Epoch 34/100\tLoss: 0.5249260159794533\n",
      "Epoch 35/100\tLoss: 0.5220536225442138\n",
      "Epoch 36/100\tLoss: 0.5225302206007494\n",
      "Epoch 37/100\tLoss: 0.5185582817897906\n",
      "Epoch 38/100\tLoss: 0.5285478755341311\n",
      "Epoch 39/100\tLoss: 0.5168203118418592\n",
      "Epoch 40/100\tLoss: 0.5189296610458265\n",
      "Epoch 41/100\tLoss: 0.5415080942155466\n",
      "Epoch 42/100\tLoss: 0.5227817245425631\n",
      "Epoch 43/100\tLoss: 0.5227559727676376\n",
      "Epoch 44/100\tLoss: 0.5183923531718571\n",
      "Epoch 45/100\tLoss: 0.5243997914387959\n",
      "Epoch 46/100\tLoss: 0.5233089656726245\n",
      "Epoch 47/100\tLoss: 0.5267800974440977\n",
      "Epoch 48/100\tLoss: 0.5233651072871159\n",
      "Epoch 49/100\tLoss: 0.521295517208463\n",
      "Epoch 50/100\tLoss: 0.5180241490913631\n",
      "Epoch 51/100\tLoss: 0.5250889246009265\n",
      "Epoch 52/100\tLoss: 0.5229437709349279\n",
      "Epoch 53/100\tLoss: 0.5199389728494426\n",
      "Epoch 54/100\tLoss: 0.5246096143368976\n",
      "Epoch 55/100\tLoss: 0.5296712683018834\n",
      "Epoch 56/100\tLoss: 0.5197259538247233\n",
      "Epoch 57/100\tLoss: 0.5454007216593975\n",
      "Epoch 58/100\tLoss: 0.5253940416584304\n",
      "Epoch 59/100\tLoss: 0.5178800800289032\n",
      "Epoch 60/100\tLoss: 0.5262783294909812\n",
      "Epoch 61/100\tLoss: 0.520028327301672\n",
      "Epoch 62/100\tLoss: 0.5192251386263227\n",
      "Epoch 63/100\tLoss: 0.5183405827459016\n",
      "Epoch 64/100\tLoss: 0.5205194308061536\n",
      "Epoch 65/100\tLoss: 0.5180761518081864\n",
      "Epoch 66/100\tLoss: 0.5203417843457423\n",
      "Epoch 67/100\tLoss: 0.5228047625172006\n",
      "Epoch 68/100\tLoss: 0.5196124050206625\n",
      "Epoch 69/100\tLoss: 0.5204334165643654\n",
      "Epoch 70/100\tLoss: 0.5223533003011476\n",
      "Epoch 71/100\tLoss: 0.5170478532448652\n",
      "Epoch 72/100\tLoss: 0.51561377484942\n",
      "Epoch 73/100\tLoss: 0.5232107743006941\n",
      "Epoch 74/100\tLoss: 0.5194888135055913\n",
      "Epoch 75/100\tLoss: 0.515152598771331\n",
      "Epoch 76/100\tLoss: 0.5259114663040676\n",
      "Epoch 77/100\tLoss: 0.5179313093956085\n",
      "Epoch 78/100\tLoss: 0.52024190075983\n",
      "Epoch 79/100\tLoss: 0.5236933191645525\n",
      "Epoch 80/100\tLoss: 0.5368864325236276\n",
      "Epoch 81/100\tLoss: 0.5223571901812978\n",
      "Epoch 82/100\tLoss: 0.5211330839786417\n",
      "Epoch 83/100\tLoss: 0.5274060807022798\n",
      "Epoch 84/100\tLoss: 0.5177818121947659\n",
      "Epoch 85/100\tLoss: 0.519246912431778\n",
      "Epoch 86/100\tLoss: 0.518532875914083\n",
      "Epoch 87/100\tLoss: 0.519524123393723\n",
      "Epoch 88/100\tLoss: 0.5253557904313423\n",
      "Epoch 89/100\tLoss: 0.5251504088210792\n",
      "Epoch 90/100\tLoss: 0.527372108878793\n",
      "Epoch 91/100\tLoss: 0.5200461575816249\n",
      "Epoch 92/100\tLoss: 0.5227195885055095\n",
      "Epoch 93/100\tLoss: 0.5235229391071456\n",
      "Epoch 94/100\tLoss: 0.5252588182115995\n",
      "Epoch 95/100\tLoss: 0.5142469656031481\n",
      "Epoch 96/100\tLoss: 0.524423130112089\n",
      "Epoch 97/100\tLoss: 0.5248981797616363\n",
      "Epoch 98/100\tLoss: 0.5193290064404675\n",
      "Epoch 99/100\tLoss: 0.5169258899817815\n",
      "Epoch 100/100\tLoss: 0.5323869664821441\n"
     ]
    },
    {
     "data": {
      "image/png": "[encoded data removed]",
      "text/plain": [
       "<Figure size 720x576 with 1 Axes>"
      ]
     },
     "metadata": {
      "needs_background": "light"
     },
     "output_type": "display_data"
    }
   ],
   "source": [
    "W, loss_hist = multiclass_svm_model.fit(lr=0.005, nepoches=100, print_every=1, plot=True)"
   ]
  },
  {
   "cell_type": "code",
   "execution_count": 5,
   "metadata": {
    "tags": []
   },
   "outputs": [
    {
     "name": "stdout",
     "output_type": "stream",
     "text": [
      "Accuracy: 91.01%\n"
     ]
    }
   ],
   "source": [
    "precision = multiclass_svm_model.test(X_test, y_test)"
   ]
  },
  {
   "cell_type": "code",
   "execution_count": null,
   "metadata": {},
   "outputs": [],
   "source": []
  }
 ],
 "metadata": {
  "kernelspec": {
   "display_name": "Python 3.8.3 64-bit ('.venv': venv)",
   "language": "python",
   "name": "python38364bitvenvvenvb8d9021ca51d43cfbc34908d99b12918"
  },
  "language_info": {
   "codemirror_mode": {
    "name": "ipython",
    "version": 3
   },
   "file_extension": ".py",
   "mimetype": "text/x-python",
   "name": "python",
   "nbconvert_exporter": "python",
   "pygments_lexer": "ipython3",
   "version": "3.8.5"
  }
 },
 "nbformat": 4,
 "nbformat_minor": 4
}
